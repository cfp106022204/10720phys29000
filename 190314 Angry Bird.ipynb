{
 "cells": [
  {
   "cell_type": "code",
   "execution_count": 68,
   "metadata": {
    "scrolled": true
   },
   "outputs": [
    {
     "name": "stdout",
     "output_type": "stream",
     "text": [
      "55.85458957418496 18.027945857131645\n"
     ]
    },
    {
     "data": {
      "image/png": "[encoded data removed]",
      "text/plain": [
       "<Figure size 432x288 with 1 Axes>"
      ]
     },
     "metadata": {
      "needs_background": "light"
     },
     "output_type": "display_data"
    }
   ],
   "source": [
    "import math\n",
    "import numpy as np\n",
    "import matplotlib.pyplot as plt\n",
    "\n",
    "#pig\n",
    "pig_x,pig_y=np.random.random(2)\n",
    "pig_x*=100\n",
    "pig_y*=50\n",
    "print(stone_x,stone_y)\n",
    "\n",
    "\n",
    "#plot\n",
    "plt.plot(pig_x,pig_y,'ro')\n",
    "plt.xlim(0,100)\n",
    "plt.ylim(0,50)\n",
    "plt.show()"
   ]
  },
  {
   "cell_type": "code",
   "execution_count": 76,
   "metadata": {},
   "outputs": [
    {
     "name": "stdout",
     "output_type": "stream",
     "text": [
      "initial velocity (m/s):40\n",
      "initial angel (deg):30\n"
     ]
    },
    {
     "data": {
      "image/png": "[encoded data removed]",
      "text/plain": [
       "<Figure size 432x288 with 1 Axes>"
      ]
     },
     "metadata": {
      "needs_background": "light"
     },
     "output_type": "display_data"
    }
   ],
   "source": [
    "#initial\n",
    "v=float(input(\"initial velocity (m/s):\"))\n",
    "ang=float(input(\"initial angel (deg):\"))\n",
    "g=9.8\n",
    "N=1000\n",
    "\n",
    "#trajectory\n",
    "rad=math.radians(ang)\n",
    "v_x=math.cos(rad)*v\n",
    "v_y=math.sin(rad)*v\n",
    "t=np.linspace(0,100,N,endpoint=True)\n",
    "stone_x=v_x*t\n",
    "stone_y=v_y*t-0.5*g*t**2\n",
    "plt.plot(stone_x,stone_y)\n",
    "\n",
    "#plot\n",
    "plt.plot(pig_x,pig_y,'ro')\n",
    "plt.xlabel(\"distance (m)\")\n",
    "plt.ylabel(\"height (m)\")\n",
    "plt.xlim(0,100)\n",
    "plt.ylim(0,50)\n",
    "plt.show()"
   ]
  },
  {
   "cell_type": "code",
   "execution_count": 77,
   "metadata": {},
   "outputs": [
    {
     "name": "stdout",
     "output_type": "stream",
     "text": [
      "You shot the pig!!!\n"
     ]
    }
   ],
   "source": [
    "#if statement\n",
    "pigSize=4\n",
    "\n",
    "stone2pig=( (stone_x-pig_x)**2+ (stone_y-pig_y)**2)**0.5\n",
    "minDistance=min(stone2pig)\n",
    "if minDistance<=pigSize/2:\n",
    "    print(\"You shot the pig!!!\")\n",
    "elif minDistance<=pigSize*1.5/2:\n",
    "    print(\"Very close! Try again~\")\n",
    "else:\n",
    "    print(\"Try again...\")"
   ]
  },
  {
   "cell_type": "code",
   "execution_count": null,
   "metadata": {},
   "outputs": [],
   "source": []
  }
 ],
 "metadata": {
  "kernelspec": {
   "display_name": "Python 3",
   "language": "python",
   "name": "python3"
  },
  "language_info": {
   "codemirror_mode": {
    "name": "ipython",
    "version": 3
   },
   "file_extension": ".py",
   "mimetype": "text/x-python",
   "name": "python",
   "nbconvert_exporter": "python",
   "pygments_lexer": "ipython3",
   "version": "3.7.1"
  }
 },
 "nbformat": 4,
 "nbformat_minor": 2
}
